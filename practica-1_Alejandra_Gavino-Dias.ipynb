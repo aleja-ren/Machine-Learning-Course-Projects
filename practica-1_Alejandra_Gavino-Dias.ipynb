{
 "cells": [
  {
   "cell_type": "markdown",
   "id": "d9e3c00d",
   "metadata": {},
   "source": [
    "# Práctica 1 - Teoría de la Información"
   ]
  },
  {
   "cell_type": "markdown",
   "id": "7f4f9e56",
   "metadata": {},
   "source": [
    "Alejandra Gavino-Dias González"
   ]
  },
  {
   "cell_type": "code",
   "execution_count": 2,
   "id": "6c91dbfb",
   "metadata": {},
   "outputs": [],
   "source": [
    "import numpy as np\n",
    "from scipy.stats import entropy\n",
    "import pandas as pd"
   ]
  },
  {
   "cell_type": "markdown",
   "id": "6832aa3a",
   "metadata": {},
   "source": [
    "#### Importamos los datos"
   ]
  },
  {
   "cell_type": "code",
   "execution_count": 4,
   "id": "90d8783e",
   "metadata": {},
   "outputs": [
    {
     "data": {
      "text/html": [
       "<div>\n",
       "<style scoped>\n",
       "    .dataframe tbody tr th:only-of-type {\n",
       "        vertical-align: middle;\n",
       "    }\n",
       "\n",
       "    .dataframe tbody tr th {\n",
       "        vertical-align: top;\n",
       "    }\n",
       "\n",
       "    .dataframe thead th {\n",
       "        text-align: right;\n",
       "    }\n",
       "</style>\n",
       "<table border=\"1\" class=\"dataframe\">\n",
       "  <thead>\n",
       "    <tr style=\"text-align: right;\">\n",
       "      <th></th>\n",
       "      <th>outlook</th>\n",
       "      <th>temperature</th>\n",
       "      <th>humidity</th>\n",
       "      <th>windy</th>\n",
       "      <th>play</th>\n",
       "    </tr>\n",
       "  </thead>\n",
       "  <tbody>\n",
       "    <tr>\n",
       "      <th>0</th>\n",
       "      <td>sunny</td>\n",
       "      <td>hot</td>\n",
       "      <td>high</td>\n",
       "      <td>False</td>\n",
       "      <td>no</td>\n",
       "    </tr>\n",
       "    <tr>\n",
       "      <th>1</th>\n",
       "      <td>sunny</td>\n",
       "      <td>hot</td>\n",
       "      <td>high</td>\n",
       "      <td>True</td>\n",
       "      <td>no</td>\n",
       "    </tr>\n",
       "    <tr>\n",
       "      <th>2</th>\n",
       "      <td>overcast</td>\n",
       "      <td>hot</td>\n",
       "      <td>high</td>\n",
       "      <td>False</td>\n",
       "      <td>yes</td>\n",
       "    </tr>\n",
       "    <tr>\n",
       "      <th>3</th>\n",
       "      <td>rainy</td>\n",
       "      <td>mild</td>\n",
       "      <td>high</td>\n",
       "      <td>False</td>\n",
       "      <td>yes</td>\n",
       "    </tr>\n",
       "    <tr>\n",
       "      <th>4</th>\n",
       "      <td>rainy</td>\n",
       "      <td>cool</td>\n",
       "      <td>normal</td>\n",
       "      <td>False</td>\n",
       "      <td>yes</td>\n",
       "    </tr>\n",
       "    <tr>\n",
       "      <th>5</th>\n",
       "      <td>rainy</td>\n",
       "      <td>cool</td>\n",
       "      <td>normal</td>\n",
       "      <td>True</td>\n",
       "      <td>no</td>\n",
       "    </tr>\n",
       "    <tr>\n",
       "      <th>6</th>\n",
       "      <td>overcast</td>\n",
       "      <td>cool</td>\n",
       "      <td>normal</td>\n",
       "      <td>True</td>\n",
       "      <td>yes</td>\n",
       "    </tr>\n",
       "    <tr>\n",
       "      <th>7</th>\n",
       "      <td>sunny</td>\n",
       "      <td>mild</td>\n",
       "      <td>high</td>\n",
       "      <td>False</td>\n",
       "      <td>no</td>\n",
       "    </tr>\n",
       "    <tr>\n",
       "      <th>8</th>\n",
       "      <td>sunny</td>\n",
       "      <td>cool</td>\n",
       "      <td>normal</td>\n",
       "      <td>False</td>\n",
       "      <td>yes</td>\n",
       "    </tr>\n",
       "    <tr>\n",
       "      <th>9</th>\n",
       "      <td>rainy</td>\n",
       "      <td>mild</td>\n",
       "      <td>normal</td>\n",
       "      <td>False</td>\n",
       "      <td>yes</td>\n",
       "    </tr>\n",
       "    <tr>\n",
       "      <th>10</th>\n",
       "      <td>sunny</td>\n",
       "      <td>mild</td>\n",
       "      <td>normal</td>\n",
       "      <td>True</td>\n",
       "      <td>yes</td>\n",
       "    </tr>\n",
       "    <tr>\n",
       "      <th>11</th>\n",
       "      <td>overcast</td>\n",
       "      <td>mild</td>\n",
       "      <td>high</td>\n",
       "      <td>True</td>\n",
       "      <td>yes</td>\n",
       "    </tr>\n",
       "    <tr>\n",
       "      <th>12</th>\n",
       "      <td>overcast</td>\n",
       "      <td>hot</td>\n",
       "      <td>normal</td>\n",
       "      <td>False</td>\n",
       "      <td>yes</td>\n",
       "    </tr>\n",
       "    <tr>\n",
       "      <th>13</th>\n",
       "      <td>rainy</td>\n",
       "      <td>mild</td>\n",
       "      <td>high</td>\n",
       "      <td>True</td>\n",
       "      <td>no</td>\n",
       "    </tr>\n",
       "  </tbody>\n",
       "</table>\n",
       "</div>"
      ],
      "text/plain": [
       "     outlook temperature humidity  windy play\n",
       "0      sunny         hot     high  False   no\n",
       "1      sunny         hot     high   True   no\n",
       "2   overcast         hot     high  False  yes\n",
       "3      rainy        mild     high  False  yes\n",
       "4      rainy        cool   normal  False  yes\n",
       "5      rainy        cool   normal   True   no\n",
       "6   overcast        cool   normal   True  yes\n",
       "7      sunny        mild     high  False   no\n",
       "8      sunny        cool   normal  False  yes\n",
       "9      rainy        mild   normal  False  yes\n",
       "10     sunny        mild   normal   True  yes\n",
       "11  overcast        mild     high   True  yes\n",
       "12  overcast         hot   normal  False  yes\n",
       "13     rainy        mild     high   True   no"
      ]
     },
     "execution_count": 4,
     "metadata": {},
     "output_type": "execute_result"
    }
   ],
   "source": [
    "tabla=pd.read_csv('weather-nominal-weka.csv')\n",
    "tabla"
   ]
  },
  {
   "cell_type": "markdown",
   "id": "0d2688f8",
   "metadata": {},
   "source": [
    "***"
   ]
  },
  {
   "cell_type": "markdown",
   "id": "a0e95537",
   "metadata": {},
   "source": [
    "# Hallar la ganancia de información para cada atributo usando entropía"
   ]
  },
  {
   "cell_type": "markdown",
   "id": "1a3e66ca",
   "metadata": {},
   "source": [
    "### entropía del atributo play"
   ]
  },
  {
   "cell_type": "code",
   "execution_count": 5,
   "id": "b49cddfe",
   "metadata": {},
   "outputs": [
    {
     "data": {
      "text/plain": [
       "play\n",
       "yes    0.642857\n",
       "no     0.357143\n",
       "Name: proportion, dtype: float64"
      ]
     },
     "execution_count": 5,
     "metadata": {},
     "output_type": "execute_result"
    }
   ],
   "source": [
    "tabla.iloc[:,4].value_counts(normalize=True)"
   ]
  },
  {
   "cell_type": "code",
   "execution_count": 8,
   "id": "bca9ca70",
   "metadata": {
    "scrolled": true
   },
   "outputs": [
    {
     "name": "stdout",
     "output_type": "stream",
     "text": [
      "La entropia para play es:  0.940285958670631\n"
     ]
    }
   ],
   "source": [
    "H = entropy(tabla.iloc[:,-1].value_counts(normalize=True), base=2)\n",
    "print(\"La entropia para play es: \",H)"
   ]
  },
  {
   "cell_type": "code",
   "execution_count": 9,
   "id": "227c2874",
   "metadata": {},
   "outputs": [
    {
     "data": {
      "text/html": [
       "<div>\n",
       "<style scoped>\n",
       "    .dataframe tbody tr th:only-of-type {\n",
       "        vertical-align: middle;\n",
       "    }\n",
       "\n",
       "    .dataframe tbody tr th {\n",
       "        vertical-align: top;\n",
       "    }\n",
       "\n",
       "    .dataframe thead th {\n",
       "        text-align: right;\n",
       "    }\n",
       "</style>\n",
       "<table border=\"1\" class=\"dataframe\">\n",
       "  <thead>\n",
       "    <tr style=\"text-align: right;\">\n",
       "      <th></th>\n",
       "      <th>outlook</th>\n",
       "      <th>temperature</th>\n",
       "      <th>humidity</th>\n",
       "      <th>windy</th>\n",
       "      <th>play</th>\n",
       "    </tr>\n",
       "  </thead>\n",
       "  <tbody>\n",
       "    <tr>\n",
       "      <th>0</th>\n",
       "      <td>sunny</td>\n",
       "      <td>hot</td>\n",
       "      <td>high</td>\n",
       "      <td>False</td>\n",
       "      <td>no</td>\n",
       "    </tr>\n",
       "    <tr>\n",
       "      <th>1</th>\n",
       "      <td>sunny</td>\n",
       "      <td>hot</td>\n",
       "      <td>high</td>\n",
       "      <td>True</td>\n",
       "      <td>no</td>\n",
       "    </tr>\n",
       "    <tr>\n",
       "      <th>7</th>\n",
       "      <td>sunny</td>\n",
       "      <td>mild</td>\n",
       "      <td>high</td>\n",
       "      <td>False</td>\n",
       "      <td>no</td>\n",
       "    </tr>\n",
       "    <tr>\n",
       "      <th>8</th>\n",
       "      <td>sunny</td>\n",
       "      <td>cool</td>\n",
       "      <td>normal</td>\n",
       "      <td>False</td>\n",
       "      <td>yes</td>\n",
       "    </tr>\n",
       "    <tr>\n",
       "      <th>10</th>\n",
       "      <td>sunny</td>\n",
       "      <td>mild</td>\n",
       "      <td>normal</td>\n",
       "      <td>True</td>\n",
       "      <td>yes</td>\n",
       "    </tr>\n",
       "  </tbody>\n",
       "</table>\n",
       "</div>"
      ],
      "text/plain": [
       "   outlook temperature humidity  windy play\n",
       "0    sunny         hot     high  False   no\n",
       "1    sunny         hot     high   True   no\n",
       "7    sunny        mild     high  False   no\n",
       "8    sunny        cool   normal  False  yes\n",
       "10   sunny        mild   normal   True  yes"
      ]
     },
     "execution_count": 9,
     "metadata": {},
     "output_type": "execute_result"
    }
   ],
   "source": [
    "table = tabla.loc[tabla[\"outlook\"] == \"sunny\"]\n",
    "table"
   ]
  },
  {
   "cell_type": "code",
   "execution_count": 10,
   "id": "776aab79",
   "metadata": {},
   "outputs": [
    {
     "data": {
      "text/plain": [
       "0.9709505944546688"
      ]
     },
     "execution_count": 10,
     "metadata": {},
     "output_type": "execute_result"
    }
   ],
   "source": [
    "entropy(table.iloc[:,-1].value_counts(normalize=True),base=2)"
   ]
  },
  {
   "cell_type": "markdown",
   "id": "d018f37d",
   "metadata": {},
   "source": [
    "## Ganancia de Información - Entropía de cada atributo"
   ]
  },
  {
   "cell_type": "markdown",
   "id": "9e2d770c",
   "metadata": {},
   "source": [
    "$G(S,A) = H(S)-\\sum_{i=1}^k\\frac{|S_{v_i}|}{|S|}H(S_{v_i})$"
   ]
  },
  {
   "cell_type": "code",
   "execution_count": 35,
   "id": "12e7afda",
   "metadata": {},
   "outputs": [
    {
     "name": "stdout",
     "output_type": "stream",
     "text": [
      "Ganancia de Información (Entropía)\n",
      "\n",
      "G( outlook ) = 0.246749819774439\n",
      "G( temperature ) = 0.029222565658954758\n",
      "G( humidity ) = 0.15183550136234159\n",
      "G( windy ) = 0.04812703040826943\n",
      "\n",
      "Ganancia en Información máxima (Entropía) con: - outlook -\n"
     ]
    }
   ],
   "source": [
    "print(\"Ganancia de Información (Entropía)\\n\")\n",
    "G = []\n",
    "l = len(tabla)\n",
    "for atributo in tabla.columns[:-1]:\n",
    "    G.append(H)\n",
    "    for v in tabla[atributo].unique():\n",
    "        table = tabla.loc[tabla[atributo] == v]\n",
    "        G[-1] -= (len(table)/l)*entropy(table.iloc[:,-1].value_counts(normalize=True), base=2)\n",
    "    print(\"G(\",atributo,\") =\", G[-1])\n",
    "print(\"\\nGanancia en Información máxima (Entropía) con: -\",tabla.columns[np.argmax(G)],\"-\")"
   ]
  },
  {
   "cell_type": "markdown",
   "id": "8fe7da6b",
   "metadata": {},
   "source": [
    "### Indice de Gini para cada atributo"
   ]
  },
  {
   "cell_type": "markdown",
   "id": "a4a48936",
   "metadata": {},
   "source": [
    "$Gini = 1-\\sum_{i=1}^np(c_i)^2$"
   ]
  },
  {
   "cell_type": "code",
   "execution_count": 36,
   "id": "43879868",
   "metadata": {},
   "outputs": [],
   "source": [
    "def gini(x):\n",
    "    G=1.0\n",
    "    for c in np.unique(x):\n",
    "        #da la lista de valores diferentes\n",
    "        G -= np.mean(c==x)**2\n",
    "    return G"
   ]
  },
  {
   "cell_type": "code",
   "execution_count": 37,
   "id": "92a37aa6",
   "metadata": {
    "scrolled": true
   },
   "outputs": [
    {
     "data": {
      "text/plain": [
       "0.4591836734693877"
      ]
     },
     "execution_count": 37,
     "metadata": {},
     "output_type": "execute_result"
    }
   ],
   "source": [
    "gini_total = gini(tabla.iloc[:,-1])\n",
    "gini_total"
   ]
  },
  {
   "cell_type": "code",
   "execution_count": 38,
   "id": "89d93c9f",
   "metadata": {},
   "outputs": [
    {
     "name": "stdout",
     "output_type": "stream",
     "text": [
      "Indice de Gini: \n",
      "\n",
      "Gini( outlook ) = 0.663265306122449\n",
      "Gini( temperature ) = 0.653061224489796\n",
      "Gini( humidity ) = 0.5\n",
      "Gini( windy ) = 0.48979591836734704\n",
      "Gini( play ) = 0.4591836734693877\n"
     ]
    }
   ],
   "source": [
    "print(\"Indice de Gini: \\n\")\n",
    "i=0\n",
    "for atributo in tabla.columns:\n",
    "    print(\"Gini(\",atributo,\") =\",gini(tabla.iloc[:,i]))\n",
    "    i +=1"
   ]
  },
  {
   "cell_type": "markdown",
   "id": "ec4cee5d",
   "metadata": {},
   "source": [
    "## Ganancia de Información - Índice de Gini de cada atributo"
   ]
  },
  {
   "cell_type": "code",
   "execution_count": 28,
   "id": "6295d735",
   "metadata": {},
   "outputs": [
    {
     "name": "stdout",
     "output_type": "stream",
     "text": [
      "Ganancia de Información (Gini)\n",
      "\n",
      "G( outlook ) = 0.10204081632653053\n",
      "G( temperature ) = 0.10204081632653059\n",
      "G( humidity ) = -0.04081632653061229\n",
      "G( windy ) = 0.173469387755102\n",
      "\n",
      "Ganancia en Información máxima (Gini) con: - windy -\n"
     ]
    }
   ],
   "source": [
    "print(\"Ganancia de Información (Gini)\\n\")\n",
    "Gi = []\n",
    "l = len(tabla)\n",
    "for atributo in tabla.columns[:-1]:\n",
    "    Gi.append(gini_total)\n",
    "    for v in tabla[atributo].unique():\n",
    "        table = tabla.loc[tabla[atributo] == v]\n",
    "        Gi[-1] -= (len(table)/l)*gini(table.iloc[:,-1].value_counts(normalize=True))\n",
    "    print(\"G(\",atributo,\") =\", Gi[-1])\n",
    "print(\"\\nGanancia en Información máxima (Gini) con: -\",tabla.columns[np.argmax(Gi)],\"-\")"
   ]
  }
 ],
 "metadata": {
  "kernelspec": {
   "display_name": "Python 3 (ipykernel)",
   "language": "python",
   "name": "python3"
  },
  "language_info": {
   "codemirror_mode": {
    "name": "ipython",
    "version": 3
   },
   "file_extension": ".py",
   "mimetype": "text/x-python",
   "name": "python",
   "nbconvert_exporter": "python",
   "pygments_lexer": "ipython3",
   "version": "3.11.0"
  }
 },
 "nbformat": 4,
 "nbformat_minor": 5
}
