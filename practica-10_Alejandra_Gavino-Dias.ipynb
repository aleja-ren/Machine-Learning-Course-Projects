{
 "cells": [
  {
   "cell_type": "markdown",
   "id": "16859e1b-99a9-4b6e-bb51-9ed8632dfd4b",
   "metadata": {},
   "source": [
    "Alejandra Gavino-Dias"
   ]
  },
  {
   "cell_type": "markdown",
   "id": "115bd27e-050f-4275-a741-eabf22c233d3",
   "metadata": {
    "tags": []
   },
   "source": [
    "# Prática 10 - MLP"
   ]
  },
  {
   "cell_type": "code",
   "execution_count": 1,
   "id": "cf705ce3-2cfe-41de-95df-6cc554084aec",
   "metadata": {
    "tags": []
   },
   "outputs": [],
   "source": [
    "from sklearn.datasets import fetch_openml\n",
    "import numpy as np\n",
    "from sklearn.datasets import make_blobs\n",
    "from sklearn.preprocessing import MinMaxScaler\n",
    "import matplotlib.pyplot as plt\n",
    "import pandas as pd\n",
    "from sklearn.neural_network import MLPClassifier\n",
    "from sklearn.datasets import make_classification\n",
    "from sklearn.model_selection import train_test_split\n",
    "from sklearn.model_selection import KFold, StratifiedKFold\n",
    "from tqdm import tqdm\n",
    "import time"
   ]
  },
  {
   "cell_type": "markdown",
   "id": "444fa85c-13c1-46a2-8422-4256e826e1bb",
   "metadata": {},
   "source": [
    "Esto es para quitar los warnings (al importar el dataset salía uno)"
   ]
  },
  {
   "cell_type": "code",
   "execution_count": 31,
   "id": "a7456a41-2dbf-4407-b87e-13b184eb8eaa",
   "metadata": {
    "tags": []
   },
   "outputs": [],
   "source": [
    "import warnings\n",
    "warnings.filterwarnings('ignore')"
   ]
  },
  {
   "cell_type": "code",
   "execution_count": 2,
   "id": "85a5edd8-690d-4f88-aea0-01ef512f8486",
   "metadata": {
    "tags": []
   },
   "outputs": [],
   "source": [
    "datos = fetch_openml(data_id = 1560)\n",
    "X = datos.data\n",
    "X = MinMaxScaler().fit_transform(X)\n",
    "y = datos.target"
   ]
  },
  {
   "cell_type": "code",
   "execution_count": 3,
   "id": "2d64dfa1-534e-4c49-8619-323d053e09b7",
   "metadata": {
    "tags": []
   },
   "outputs": [],
   "source": [
    "resul = pd.DataFrame(index = range(5,51,5), columns=['Entrena', 'Verifica', 'T.Ejecucion'])\n",
    "resul.index.name = 'Neuronas Ocultas'"
   ]
  },
  {
   "cell_type": "code",
   "execution_count": 34,
   "id": "652fdd8d-c5c0-4b08-a5e8-0c98c079f0a1",
   "metadata": {
    "tags": []
   },
   "outputs": [
    {
     "name": "stderr",
     "output_type": "stream",
     "text": [
      "100%|███████████████████████████████████████████| 10/10 [00:12<00:00,  1.26s/it]\n"
     ]
    },
    {
     "name": "stdout",
     "output_type": "stream",
     "text": [
      "       Entrena  Verifica T.Ejecucion\n",
      "Fold                                \n",
      "0      0.99425  0.962441    1.599745\n",
      "1     0.991113   0.99061    0.919188\n",
      "2     0.991636  0.971831    0.763768\n",
      "3     0.990068  0.971831    0.729494\n",
      "4     0.991636       1.0    1.275403\n",
      "5     0.991113       1.0    1.234296\n",
      "6     0.991641  0.990566    1.056653\n",
      "7     0.992163  0.995283    1.075001\n",
      "8     0.992163       1.0    1.825784\n",
      "9     0.992163  0.985849    2.112886\n",
      "\n",
      "MEDIA para capa oculta de tamaño:  5\n",
      "Entrena:\t 0.9917946612874241\n",
      "Verifica:\t 0.9868411728231022\n",
      "T.Ejecucion:\t 1.2592217683792115\n",
      "Tiempo total:\t 12.592217683792114\n"
     ]
    },
    {
     "name": "stderr",
     "output_type": "stream",
     "text": [
      "100%|███████████████████████████████████████████| 10/10 [00:13<00:00,  1.31s/it]\n"
     ]
    },
    {
     "name": "stdout",
     "output_type": "stream",
     "text": [
      "       Entrena  Verifica T.Ejecucion\n",
      "Fold                                \n",
      "10    0.994773  0.957746    1.810224\n",
      "11    0.991636   0.99061     1.57878\n",
      "12    0.992159  0.971831    1.619081\n",
      "13    0.992159  0.985915    1.291727\n",
      "14    0.991636       1.0    1.782525\n",
      "15    0.992159       1.0    1.435561\n",
      "16    0.992685  0.990566    0.986964\n",
      "17    0.992163  0.990566    0.776959\n",
      "18    0.990596       1.0    0.816274\n",
      "19    0.992685  0.981132    0.957562\n",
      "\n",
      "MEDIA para capa oculta de tamaño:  10\n",
      "Entrena:\t 0.9922651265252703\n",
      "Verifica:\t 0.9868367437328374\n",
      "T.Ejecucion:\t 1.3055657625198365\n",
      "Tiempo total:\t 13.055657625198364\n"
     ]
    },
    {
     "name": "stderr",
     "output_type": "stream",
     "text": [
      "100%|███████████████████████████████████████████| 10/10 [00:09<00:00,  1.02it/s]\n"
     ]
    },
    {
     "name": "stdout",
     "output_type": "stream",
     "text": [
      "       Entrena  Verifica T.Ejecucion\n",
      "Fold                                \n",
      "20    0.994773  0.962441    1.144678\n",
      "21    0.992682   0.99061     1.35046\n",
      "22    0.992159  0.971831    0.790644\n",
      "23    0.993204  0.985915    0.909744\n",
      "24    0.992159       1.0    0.816915\n",
      "25    0.992682       1.0    0.984358\n",
      "26    0.993208  0.990566    0.972902\n",
      "27    0.992685  0.995283    0.890069\n",
      "28    0.992685       1.0    0.902698\n",
      "29    0.992685  0.966981    1.028043\n",
      "\n",
      "MEDIA para capa oculta de tamaño:  15\n",
      "Entrena:\t 0.9928922496409924\n",
      "Verifica:\t 0.9863628310744973\n",
      "T.Ejecucion:\t 0.9790508985519409\n",
      "Tiempo total:\t 9.79050898551941\n"
     ]
    },
    {
     "name": "stderr",
     "output_type": "stream",
     "text": [
      "100%|███████████████████████████████████████████| 10/10 [00:12<00:00,  1.23s/it]\n"
     ]
    },
    {
     "name": "stdout",
     "output_type": "stream",
     "text": [
      "       Entrena  Verifica T.Ejecucion\n",
      "Fold                                \n",
      "30    0.995295  0.962441    0.853243\n",
      "31    0.993204   0.99061    2.219247\n",
      "32    0.992682  0.971831    1.405482\n",
      "33    0.992682   0.99061    0.788497\n",
      "34    0.992682  0.995305    1.250449\n",
      "35    0.992682       1.0    1.024044\n",
      "36    0.992685  0.990566    1.430858\n",
      "37    0.993208  0.990566    1.366486\n",
      "38    0.992163       1.0    0.717745\n",
      "39    0.992685  0.981132    1.165051\n",
      "\n",
      "MEDIA para capa oculta de tamaño:  20\n",
      "Entrena:\t 0.9929968247829706\n",
      "Verifica:\t 0.9873062273009126\n",
      "T.Ejecucion:\t 1.2221101999282837\n",
      "Tiempo total:\t 12.221101999282837\n"
     ]
    },
    {
     "name": "stderr",
     "output_type": "stream",
     "text": [
      "100%|███████████████████████████████████████████| 10/10 [00:19<00:00,  1.95s/it]\n"
     ]
    },
    {
     "name": "stdout",
     "output_type": "stream",
     "text": [
      "       Entrena  Verifica T.Ejecucion\n",
      "Fold                                \n",
      "40    0.995818  0.962441    1.175631\n",
      "41    0.992159   0.99061    1.216841\n",
      "42    0.992682  0.981221    2.468104\n",
      "43    0.993727  0.981221    2.458723\n",
      "44    0.993204  0.995305      2.7129\n",
      "45    0.993727       1.0    3.194562\n",
      "46    0.992685  0.990566    1.051604\n",
      "47    0.993208  0.981132    1.875992\n",
      "48    0.992685       1.0     2.17781\n",
      "49     0.99373  0.948113     1.07141\n",
      "\n",
      "MEDIA para capa oculta de tamaño:  25\n",
      "Entrena:\t 0.9933626602561476\n",
      "Verifica:\t 0.9830609442820446\n",
      "T.Ejecucion:\t 1.9403576374053955\n",
      "Tiempo total:\t 19.403576374053955\n"
     ]
    },
    {
     "name": "stderr",
     "output_type": "stream",
     "text": [
      "100%|███████████████████████████████████████████| 10/10 [00:12<00:00,  1.25s/it]\n"
     ]
    },
    {
     "name": "stdout",
     "output_type": "stream",
     "text": [
      "       Entrena  Verifica T.Ejecucion\n",
      "Fold                                \n",
      "50    0.995295  0.962441    0.980342\n",
      "51    0.995295   0.99061    1.968698\n",
      "52    0.992682  0.981221    1.154533\n",
      "53    0.993204   0.99061    1.199772\n",
      "54    0.995295  0.995305    1.527207\n",
      "55    0.992159       1.0     1.27007\n",
      "56     0.99373  0.990566    1.118448\n",
      "57    0.993208  0.985849    0.902415\n",
      "58    0.992685       1.0    1.267576\n",
      "59     0.99373  0.971698    1.033653\n",
      "\n",
      "MEDIA para capa oculta de tamaño:  30\n",
      "Entrena:\t 0.9937285230406705\n",
      "Verifica:\t 0.98683010009744\n",
      "T.Ejecucion:\t 1.2422715663909911\n",
      "Tiempo total:\t 12.422715663909912\n"
     ]
    },
    {
     "name": "stderr",
     "output_type": "stream",
     "text": [
      "100%|███████████████████████████████████████████| 10/10 [00:14<00:00,  1.41s/it]\n"
     ]
    },
    {
     "name": "stdout",
     "output_type": "stream",
     "text": [
      "       Entrena  Verifica T.Ejecucion\n",
      "Fold                                \n",
      "60    0.995818  0.962441    1.054109\n",
      "61    0.992682   0.99061    1.234457\n",
      "62    0.995295  0.981221    1.616398\n",
      "63    0.994773  0.985915    1.260204\n",
      "64    0.992682  0.995305    1.102488\n",
      "65    0.993204       1.0    2.232294\n",
      "66    0.995298  0.976415    1.956218\n",
      "67    0.994253  0.990566    1.490201\n",
      "68    0.993208       1.0     1.17483\n",
      "69    0.993208  0.948113    0.896566\n",
      "\n",
      "MEDIA para capa oculta de tamaño:  35\n",
      "Entrena:\t 0.9940420299758402\n",
      "Verifica:\t 0.9830587297369121\n",
      "T.Ejecucion:\t 1.4017765045166015\n",
      "Tiempo total:\t 14.017765045166016\n"
     ]
    },
    {
     "name": "stderr",
     "output_type": "stream",
     "text": [
      "100%|███████████████████████████████████████████| 10/10 [00:16<00:00,  1.65s/it]\n"
     ]
    },
    {
     "name": "stdout",
     "output_type": "stream",
     "text": [
      "       Entrena  Verifica T.Ejecucion\n",
      "Fold                                \n",
      "70    0.996864  0.962441    1.810085\n",
      "71    0.995818   0.99061    1.876762\n",
      "72    0.992682  0.971831    1.233353\n",
      "73    0.996864  0.985915    2.315098\n",
      "74    0.992682  0.995305    1.075158\n",
      "75    0.995295       1.0    1.830838\n",
      "76    0.994775  0.985849    1.593712\n",
      "77    0.994775  0.981132    1.739967\n",
      "78    0.995298       1.0    1.963179\n",
      "79    0.993208  0.957547    0.980942\n",
      "\n",
      "MEDIA para capa oculta de tamaño:  40\n",
      "Entrena:\t 0.994826029460202\n",
      "Verifica:\t 0.9830631588271768\n",
      "T.Ejecucion:\t 1.641909384727478\n",
      "Tiempo total:\t 16.41909384727478\n"
     ]
    },
    {
     "name": "stderr",
     "output_type": "stream",
     "text": [
      "100%|███████████████████████████████████████████| 10/10 [00:18<00:00,  1.89s/it]\n"
     ]
    },
    {
     "name": "stdout",
     "output_type": "stream",
     "text": [
      "       Entrena  Verifica T.Ejecucion\n",
      "Fold                                \n",
      "80    0.995818  0.962441    1.257291\n",
      "81    0.996341   0.99061    2.659491\n",
      "82    0.992682  0.981221    1.201182\n",
      "83    0.998432  0.985915     2.25593\n",
      "84    0.996341   0.99061    1.759757\n",
      "85    0.995818       1.0    2.235383\n",
      "86     0.99582  0.966981    1.989814\n",
      "87    0.996343  0.976415    1.973248\n",
      "88    0.995298       1.0    1.710204\n",
      "89    0.996865  0.924528    1.777896\n",
      "\n",
      "MEDIA para capa oculta de tamaño:  45\n",
      "Entrena:\t 0.9959757278610137\n",
      "Verifica:\t 0.9778722650367616\n",
      "T.Ejecucion:\t 1.8820196390151978\n",
      "Tiempo total:\t 18.820196390151978\n"
     ]
    },
    {
     "name": "stderr",
     "output_type": "stream",
     "text": [
      "100%|███████████████████████████████████████████| 10/10 [00:18<00:00,  1.84s/it]"
     ]
    },
    {
     "name": "stdout",
     "output_type": "stream",
     "text": [
      "       Entrena  Verifica T.Ejecucion\n",
      "Fold                                \n",
      "90    0.997386  0.962441    2.259998\n",
      "91    0.995295  0.985915    2.516286\n",
      "92    0.995295  0.985915    2.072979\n",
      "93    0.993727  0.985915    1.444593\n",
      "94    0.996864  0.995305    2.393231\n",
      "95    0.995295       1.0    2.008095\n",
      "96    0.995298  0.976415    1.643455\n",
      "97     0.99373  0.981132     0.88635\n",
      "98    0.995298       1.0    1.724441\n",
      "99    0.994775  0.948113    1.380237\n",
      "\n",
      "MEDIA para capa oculta de tamaño:  50\n",
      "Entrena:\t 0.9952964400753574\n",
      "Verifica:\t 0.9821153335104971\n",
      "T.Ejecucion:\t 1.8329664945602417\n",
      "Tiempo total:\t 18.329664945602417\n"
     ]
    },
    {
     "name": "stderr",
     "output_type": "stream",
     "text": [
      "\n"
     ]
    },
    {
     "data": {
      "text/html": [
       "<div>\n",
       "<style scoped>\n",
       "    .dataframe tbody tr th:only-of-type {\n",
       "        vertical-align: middle;\n",
       "    }\n",
       "\n",
       "    .dataframe tbody tr th {\n",
       "        vertical-align: top;\n",
       "    }\n",
       "\n",
       "    .dataframe thead th {\n",
       "        text-align: right;\n",
       "    }\n",
       "</style>\n",
       "<table border=\"1\" class=\"dataframe\">\n",
       "  <thead>\n",
       "    <tr style=\"text-align: right;\">\n",
       "      <th></th>\n",
       "      <th>Entrena</th>\n",
       "      <th>Verifica</th>\n",
       "      <th>T.Ejecucion</th>\n",
       "    </tr>\n",
       "    <tr>\n",
       "      <th>Neuronas Ocultas</th>\n",
       "      <th></th>\n",
       "      <th></th>\n",
       "      <th></th>\n",
       "    </tr>\n",
       "  </thead>\n",
       "  <tbody>\n",
       "    <tr>\n",
       "      <th>5</th>\n",
       "      <td>0.991795</td>\n",
       "      <td>0.986841</td>\n",
       "      <td>12.592218</td>\n",
       "    </tr>\n",
       "    <tr>\n",
       "      <th>10</th>\n",
       "      <td>0.992265</td>\n",
       "      <td>0.986837</td>\n",
       "      <td>13.055658</td>\n",
       "    </tr>\n",
       "    <tr>\n",
       "      <th>15</th>\n",
       "      <td>0.992892</td>\n",
       "      <td>0.986363</td>\n",
       "      <td>9.790509</td>\n",
       "    </tr>\n",
       "    <tr>\n",
       "      <th>20</th>\n",
       "      <td>0.992997</td>\n",
       "      <td>0.987306</td>\n",
       "      <td>12.221102</td>\n",
       "    </tr>\n",
       "    <tr>\n",
       "      <th>25</th>\n",
       "      <td>0.993363</td>\n",
       "      <td>0.983061</td>\n",
       "      <td>19.403576</td>\n",
       "    </tr>\n",
       "    <tr>\n",
       "      <th>30</th>\n",
       "      <td>0.993729</td>\n",
       "      <td>0.98683</td>\n",
       "      <td>12.422716</td>\n",
       "    </tr>\n",
       "    <tr>\n",
       "      <th>35</th>\n",
       "      <td>0.994042</td>\n",
       "      <td>0.983059</td>\n",
       "      <td>14.017765</td>\n",
       "    </tr>\n",
       "    <tr>\n",
       "      <th>40</th>\n",
       "      <td>0.994826</td>\n",
       "      <td>0.983063</td>\n",
       "      <td>16.419094</td>\n",
       "    </tr>\n",
       "    <tr>\n",
       "      <th>45</th>\n",
       "      <td>0.995976</td>\n",
       "      <td>0.977872</td>\n",
       "      <td>18.820196</td>\n",
       "    </tr>\n",
       "    <tr>\n",
       "      <th>50</th>\n",
       "      <td>0.995296</td>\n",
       "      <td>0.982115</td>\n",
       "      <td>18.329665</td>\n",
       "    </tr>\n",
       "  </tbody>\n",
       "</table>\n",
       "</div>"
      ],
      "text/plain": [
       "                   Entrena  Verifica T.Ejecucion\n",
       "Neuronas Ocultas                                \n",
       "5                 0.991795  0.986841   12.592218\n",
       "10                0.992265  0.986837   13.055658\n",
       "15                0.992892  0.986363    9.790509\n",
       "20                0.992997  0.987306   12.221102\n",
       "25                0.993363  0.983061   19.403576\n",
       "30                0.993729   0.98683   12.422716\n",
       "35                0.994042  0.983059   14.017765\n",
       "40                0.994826  0.983063   16.419094\n",
       "45                0.995976  0.977872   18.820196\n",
       "50                0.995296  0.982115   18.329665"
      ]
     },
     "execution_count": 34,
     "metadata": {},
     "output_type": "execute_result"
    }
   ],
   "source": [
    "K = 10\n",
    "kf = StratifiedKFold(n_splits=K, shuffle=True, random_state=0)\n",
    "k = 0\n",
    "for t in range(5,51,5):\n",
    "    r_reg = pd.DataFrame(columns=['Entrena', 'Verifica', 'T.Ejecucion'])\n",
    "    for train_index, test_index in tqdm(kf.split(X),total=kf.get_n_splits(X)):\n",
    "        X_train = X[train_index, :]\n",
    "        y_train = y[train_index]\n",
    "        X_test = X[test_index, :]\n",
    "        y_test = y[test_index]\n",
    "        reg = MLPClassifier(hidden_layer_sizes=t, max_iter=2000)\n",
    "        ini = time.time()\n",
    "        reg.fit(X_train, y_train)\n",
    "        y_predict = reg.predict(X_test)\n",
    "        entrena = reg.score(X_train, y_train)\n",
    "        verifica = reg.score(X_test, y_test)\n",
    "        fin = time.time()\n",
    "        r_reg.loc[k, :] = [entrena, verifica, fin-ini]\n",
    "        k += 1\n",
    "    r_reg.index.name = 'Fold'\n",
    "    print(r_reg)\n",
    "    print(\"\\nMEDIA para capa oculta de tamaño: \",t)\n",
    "    print(\"Entrena:\\t\",np.mean(r_reg['Entrena']))\n",
    "    print(\"Verifica:\\t\",np.mean(r_reg['Verifica']))\n",
    "    print(\"T.Ejecucion:\\t\",np.mean(r_reg['T.Ejecucion']))\n",
    "    print(\"Tiempo total:\\t\",np.sum(r_reg['T.Ejecucion']))\n",
    "    resul.loc[t, :] = [np.mean(r_reg['Entrena']), np.mean(r_reg['Verifica']), np.sum(r_reg['T.Ejecucion'])]\n",
    "resul"
   ]
  },
  {
   "cell_type": "markdown",
   "id": "2db74b17-86a9-4146-8229-d84f5d7b1d61",
   "metadata": {},
   "source": [
    "## MLP Óptimo y más rápido"
   ]
  },
  {
   "cell_type": "code",
   "execution_count": 35,
   "id": "58dbfc2e-68aa-4f05-8215-687df9121249",
   "metadata": {
    "tags": []
   },
   "outputs": [
    {
     "name": "stdout",
     "output_type": "stream",
     "text": [
      "Tamaño optimo (mejor resultado) =  20\n",
      "Tamaño optimo (tiempo minimo) =  15\n"
     ]
    }
   ],
   "source": [
    "print(\"Tamaño optimo (mejor resultado) = \",resul.index[np.argmax(resul['Verifica'].values)])\n",
    "print(\"Tamaño optimo (tiempo minimo) = \",resul.index[np.argmin(resul['T.Ejecucion'].values)])"
   ]
  },
  {
   "cell_type": "code",
   "execution_count": 36,
   "id": "5426e54c-8b8a-4acf-bf6c-362b4a619a62",
   "metadata": {
    "tags": []
   },
   "outputs": [
    {
     "data": {
      "image/png": "[encoded data removed]",
      "text/plain": [
       "<Figure size 1500x800 with 2 Axes>"
      ]
     },
     "metadata": {},
     "output_type": "display_data"
    }
   ],
   "source": [
    "fig, ax = plt.subplots(2, 1, figsize=(15,8))\n",
    "ax[0].plot(range(5,51,5), resul['Verifica'].values, 'r*-', label='Verifica')\n",
    "ax[0].plot(range(5,51,5), resul['Entrena'].values, 'b*-', label='Entrena')\n",
    "ax[0].legend()\n",
    "ax[0].grid()\n",
    "ax[1].plot(range(5,51,5), resul['T.Ejecucion'].values, 'g*-', label='T. ejecucion')\n",
    "ax[1].legend()\n",
    "ax[1].grid()"
   ]
  }
 ],
 "metadata": {
  "kernelspec": {
   "display_name": "Python 3 (ipykernel)",
   "language": "python",
   "name": "python3"
  },
  "language_info": {
   "codemirror_mode": {
    "name": "ipython",
    "version": 3
   },
   "file_extension": ".py",
   "mimetype": "text/x-python",
   "name": "python",
   "nbconvert_exporter": "python",
   "pygments_lexer": "ipython3",
   "version": "3.11.0"
  }
 },
 "nbformat": 4,
 "nbformat_minor": 5
}
